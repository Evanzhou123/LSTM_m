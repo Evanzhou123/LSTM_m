{
 "cells": [
  {
   "cell_type": "code",
   "execution_count": 6,
   "metadata": {},
   "outputs": [],
   "source": [
    "import torch\n",
    "import torch.nn as nn\n",
    "from torch.autograd import Variable"
   ]
  },
  {
   "cell_type": "code",
   "execution_count": 11,
   "metadata": {},
   "outputs": [],
   "source": [
    "class LSTMs(nn.Module):\n",
    "    def __init__(self, n_input, n_hidden, n_output, bias = True):#n_input 输入层神经元数，n_hidden 隐藏层神经元数，n_output 输出层神经元数\n",
    "        super(LSTMs,self).__init__()\n",
    "        \n",
    "        self.n_input = n_input\n",
    "        self.n_hidden = n_hidden\n",
    "        self.n_output = n_output\n",
    "        self.bias = bias\n",
    "        \n",
    "        #只有一个隐藏层，后期可以扩展\n",
    "        self.lstm1 = nn.LSTMCell(n_input, n_hidden)\n",
    "        \n",
    "        #当前只预测是不是威胁\n",
    "        self.linear = nn.Linear(n_hidden, n_output)\n",
    "    \n",
    "    def forward(self,x):#x应是一组时间连续的列表\n",
    "        #初始化短期记忆h_t和长期记忆c_t\n",
    "        outputs = []\n",
    "        h_t = Variable(torch.zeros(x, n_hidden), requires_grad = False)\n",
    "        c_t = Variable(torch.zeros(x, n_hidden), requires_grad = False) \n",
    "        \n",
    "        for i,input_t in enumerate(x):\n",
    "            h_t, c_t = self.lstm1(x, (h_t, c_t))\n",
    "            outputs += [c_t]\n",
    "        \n",
    "        return output[-1]\n",
    "    "
   ]
  },
  {
   "cell_type": "code",
   "execution_count": null,
   "metadata": {},
   "outputs": [],
   "source": []
  },
  {
   "cell_type": "markdown",
   "metadata": {},
   "source": [
    "训练部分"
   ]
  },
  {
   "cell_type": "code",
   "execution_count": null,
   "metadata": {},
   "outputs": [],
   "source": [
    "lstm = LSTMs(n_input = 10, n_hidden = 10, n_output = 1)\n",
    "\n",
    "loss_fn = torch.nn.MSELoss()\n",
    "optimizer = optim.LBFGS(lstm.parameters())\n",
    "\n",
    "for epoch in range(epoch_num):#完整数据训练次数\n",
    "    print('epoch:', epoch)\n",
    "    \n",
    "    def closure():\n",
    "        optimizer.zero_grad()\n",
    "        out = lstm(x)\n",
    "        loss = loss_fn(out, train_y)"
   ]
  }
 ],
 "metadata": {
  "kernelspec": {
   "display_name": "Python 3",
   "language": "python",
   "name": "python3"
  },
  "language_info": {
   "codemirror_mode": {
    "name": "ipython",
    "version": 3
   },
   "file_extension": ".py",
   "mimetype": "text/x-python",
   "name": "python",
   "nbconvert_exporter": "python",
   "pygments_lexer": "ipython3",
   "version": "3.5.0"
  }
 },
 "nbformat": 4,
 "nbformat_minor": 2
}
